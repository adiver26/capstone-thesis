{
 "cells": [
  {
   "cell_type": "code",
   "execution_count": 1,
   "metadata": {},
   "outputs": [],
   "source": [
    "import pandas as pd\n",
    "from matplotlib import image\n",
    "import matplotlib.pyplot as plt\n",
    "from ipywidgets import interact\n",
    "import pydicom as pyd"
   ]
  },
  {
   "cell_type": "code",
   "execution_count": 2,
   "metadata": {},
   "outputs": [],
   "source": [
    "df = pd.read_csv(\"dataset.csv\")"
   ]
  },
  {
   "cell_type": "code",
   "execution_count": 3,
   "metadata": {},
   "outputs": [
    {
     "data": {
      "text/html": [
       "<div>\n",
       "<style scoped>\n",
       "    .dataframe tbody tr th:only-of-type {\n",
       "        vertical-align: middle;\n",
       "    }\n",
       "\n",
       "    .dataframe tbody tr th {\n",
       "        vertical-align: top;\n",
       "    }\n",
       "\n",
       "    .dataframe thead th {\n",
       "        text-align: right;\n",
       "    }\n",
       "</style>\n",
       "<table border=\"1\" class=\"dataframe\">\n",
       "  <thead>\n",
       "    <tr style=\"text-align: right;\">\n",
       "      <th></th>\n",
       "      <th>Images</th>\n",
       "      <th>Disease</th>\n",
       "      <th>Dicom Images</th>\n",
       "    </tr>\n",
       "  </thead>\n",
       "  <tbody>\n",
       "    <tr>\n",
       "      <th>0</th>\n",
       "      <td>./Bacterial leaf blight/Bacterial_leaf_blight_...</td>\n",
       "      <td>Bacterial leaf blight</td>\n",
       "      <td>./segmented-blb/Bacterial_leaf_blight_1.dcm</td>\n",
       "    </tr>\n",
       "    <tr>\n",
       "      <th>1</th>\n",
       "      <td>./Bacterial leaf blight/Bacterial_leaf_blight_...</td>\n",
       "      <td>Bacterial leaf blight</td>\n",
       "      <td>./segmented-blb/Bacterial_leaf_blight_10.dcm</td>\n",
       "    </tr>\n",
       "    <tr>\n",
       "      <th>2</th>\n",
       "      <td>./Bacterial leaf blight/Bacterial_leaf_blight_...</td>\n",
       "      <td>Bacterial leaf blight</td>\n",
       "      <td>./segmented-blb/Bacterial_leaf_blight_11.dcm</td>\n",
       "    </tr>\n",
       "    <tr>\n",
       "      <th>3</th>\n",
       "      <td>./Bacterial leaf blight/Bacterial_leaf_blight_...</td>\n",
       "      <td>Bacterial leaf blight</td>\n",
       "      <td>./segmented-blb/Bacterial_leaf_blight_12.dcm</td>\n",
       "    </tr>\n",
       "    <tr>\n",
       "      <th>4</th>\n",
       "      <td>./Bacterial leaf blight/Bacterial_leaf_blight_...</td>\n",
       "      <td>Bacterial leaf blight</td>\n",
       "      <td>./segmented-blb/Bacterial_leaf_blight_13.dcm</td>\n",
       "    </tr>\n",
       "  </tbody>\n",
       "</table>\n",
       "</div>"
      ],
      "text/plain": [
       "                                              Images                Disease  \\\n",
       "0  ./Bacterial leaf blight/Bacterial_leaf_blight_...  Bacterial leaf blight   \n",
       "1  ./Bacterial leaf blight/Bacterial_leaf_blight_...  Bacterial leaf blight   \n",
       "2  ./Bacterial leaf blight/Bacterial_leaf_blight_...  Bacterial leaf blight   \n",
       "3  ./Bacterial leaf blight/Bacterial_leaf_blight_...  Bacterial leaf blight   \n",
       "4  ./Bacterial leaf blight/Bacterial_leaf_blight_...  Bacterial leaf blight   \n",
       "\n",
       "                                   Dicom Images  \n",
       "0   ./segmented-blb/Bacterial_leaf_blight_1.dcm  \n",
       "1  ./segmented-blb/Bacterial_leaf_blight_10.dcm  \n",
       "2  ./segmented-blb/Bacterial_leaf_blight_11.dcm  \n",
       "3  ./segmented-blb/Bacterial_leaf_blight_12.dcm  \n",
       "4  ./segmented-blb/Bacterial_leaf_blight_13.dcm  "
      ]
     },
     "execution_count": 3,
     "metadata": {},
     "output_type": "execute_result"
    }
   ],
   "source": [
    "df.head()"
   ]
  },
  {
   "cell_type": "code",
   "execution_count": 4,
   "metadata": {},
   "outputs": [
    {
     "data": {
      "text/html": [
       "<div>\n",
       "<style scoped>\n",
       "    .dataframe tbody tr th:only-of-type {\n",
       "        vertical-align: middle;\n",
       "    }\n",
       "\n",
       "    .dataframe tbody tr th {\n",
       "        vertical-align: top;\n",
       "    }\n",
       "\n",
       "    .dataframe thead th {\n",
       "        text-align: right;\n",
       "    }\n",
       "</style>\n",
       "<table border=\"1\" class=\"dataframe\">\n",
       "  <thead>\n",
       "    <tr style=\"text-align: right;\">\n",
       "      <th></th>\n",
       "      <th>Images</th>\n",
       "      <th>Disease</th>\n",
       "      <th>Dicom Images</th>\n",
       "    </tr>\n",
       "  </thead>\n",
       "  <tbody>\n",
       "    <tr>\n",
       "      <th>235</th>\n",
       "      <td>./Leaf smut/Leaf_smut_6.jpg</td>\n",
       "      <td>Leaf smut</td>\n",
       "      <td>./segmented-ls/Leaf_smut_6.dcm</td>\n",
       "    </tr>\n",
       "    <tr>\n",
       "      <th>236</th>\n",
       "      <td>./Leaf smut/Leaf_smut_60.jpg</td>\n",
       "      <td>Leaf smut</td>\n",
       "      <td>./segmented-ls/Leaf_smut_60.dcm</td>\n",
       "    </tr>\n",
       "    <tr>\n",
       "      <th>237</th>\n",
       "      <td>./Leaf smut/Leaf_smut_7.jpg</td>\n",
       "      <td>Leaf smut</td>\n",
       "      <td>./segmented-ls/Leaf_smut_7.dcm</td>\n",
       "    </tr>\n",
       "    <tr>\n",
       "      <th>238</th>\n",
       "      <td>./Leaf smut/Leaf_smut_8.jpg</td>\n",
       "      <td>Leaf smut</td>\n",
       "      <td>./segmented-ls/Leaf_smut_8.dcm</td>\n",
       "    </tr>\n",
       "    <tr>\n",
       "      <th>239</th>\n",
       "      <td>./Leaf smut/Leaf_smut_9.jpg</td>\n",
       "      <td>Leaf smut</td>\n",
       "      <td>./segmented-ls/Leaf_smut_9.dcm</td>\n",
       "    </tr>\n",
       "  </tbody>\n",
       "</table>\n",
       "</div>"
      ],
      "text/plain": [
       "                           Images    Disease                     Dicom Images\n",
       "235   ./Leaf smut/Leaf_smut_6.jpg  Leaf smut   ./segmented-ls/Leaf_smut_6.dcm\n",
       "236  ./Leaf smut/Leaf_smut_60.jpg  Leaf smut  ./segmented-ls/Leaf_smut_60.dcm\n",
       "237   ./Leaf smut/Leaf_smut_7.jpg  Leaf smut   ./segmented-ls/Leaf_smut_7.dcm\n",
       "238   ./Leaf smut/Leaf_smut_8.jpg  Leaf smut   ./segmented-ls/Leaf_smut_8.dcm\n",
       "239   ./Leaf smut/Leaf_smut_9.jpg  Leaf smut   ./segmented-ls/Leaf_smut_9.dcm"
      ]
     },
     "execution_count": 4,
     "metadata": {},
     "output_type": "execute_result"
    }
   ],
   "source": [
    "df.tail()"
   ]
  },
  {
   "cell_type": "code",
   "execution_count": 5,
   "metadata": {},
   "outputs": [
    {
     "data": {
      "application/vnd.jupyter.widget-view+json": {
       "model_id": "be49a78f6c614f9d8003e4fde1c8c720",
       "version_major": 2,
       "version_minor": 0
      },
      "text/plain": [
       "interactive(children=(IntSlider(value=119, description='i', max=239), Output()), _dom_classes=('widget-interac…"
      ]
     },
     "metadata": {},
     "output_type": "display_data"
    }
   ],
   "source": [
    "@interact(i=(0,len(df)-1))\n",
    "def openfile(i):\n",
    "    data = image.imread(df.Images[i])\n",
    "    print(df.Disease[i])\n",
    "    # summarize shape of the pixel array\n",
    "    print(data.dtype)\n",
    "    print(data.shape)\n",
    "    # display the array of pixels as an image\n",
    "    plt.imshow(data)\n",
    "    plt.show()"
   ]
  },
  {
   "cell_type": "code",
   "execution_count": 6,
   "metadata": {},
   "outputs": [
    {
     "data": {
      "application/vnd.jupyter.widget-view+json": {
       "model_id": "5fcc1bb356654fea9c98d48614278270",
       "version_major": 2,
       "version_minor": 0
      },
      "text/plain": [
       "interactive(children=(IntSlider(value=119, description='i', max=239), Output()), _dom_classes=('widget-interac…"
      ]
     },
     "metadata": {},
     "output_type": "display_data"
    }
   ],
   "source": [
    "@interact(i=(0,len(df)-1))\n",
    "def openfile(i):\n",
    "    image_path = df[\"Dicom Images\"][i]\n",
    "    ds = pyd.dcmread(image_path)\n",
    "    print(ds)\n",
    "    plt.imshow(ds.pixel_array)\n",
    "    plt.show()"
   ]
  },
  {
   "cell_type": "code",
   "execution_count": null,
   "metadata": {},
   "outputs": [],
   "source": []
  }
 ],
 "metadata": {
  "kernelspec": {
   "display_name": "Python 3",
   "language": "python",
   "name": "python3"
  },
  "language_info": {
   "codemirror_mode": {
    "name": "ipython",
    "version": 3
   },
   "file_extension": ".py",
   "mimetype": "text/x-python",
   "name": "python",
   "nbconvert_exporter": "python",
   "pygments_lexer": "ipython3",
   "version": "3.7.6"
  }
 },
 "nbformat": 4,
 "nbformat_minor": 4
}
