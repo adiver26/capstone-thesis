{
 "cells": [
  {
   "cell_type": "code",
   "execution_count": 8,
   "metadata": {},
   "outputs": [
    {
     "name": "stdout",
     "output_type": "stream",
     "text": [
      "Augmentation successful\n"
     ]
    }
   ],
   "source": [
    "import os\n",
    "import random\n",
    "import warnings\n",
    "warnings.filterwarnings(\"ignore\")\n",
    "from scipy import ndarray\n",
    "\n",
    "# image processing library\n",
    "import skimage as sk\n",
    "from skimage import transform\n",
    "from skimage import util\n",
    "from skimage import io\n",
    "\n",
    "def random_rotation(image_array: ndarray):\n",
    "    # picking a random degree of rotation between 25% on the left and 25% on the right\n",
    "    random_degree = random.uniform(-25, 25)\n",
    "    return sk.transform.rotate(image_array, random_degree)\n",
    "\n",
    "def random_noise(image_array: ndarray):\n",
    "    # adding random noise to the image\n",
    "    return sk.util.random_noise(image_array)\n",
    "\n",
    "def horizontal_flip(image_array: ndarray):\n",
    "    # horizontal flip doesn't need skimage; it just involves flipping the image array of pixels\n",
    "    return image_array[:, ::-1]\n",
    "\n",
    "def verical_flip(image_array: ndarray):\n",
    "    return image_array[::-1, :]\n",
    "\n",
    "# dictionary of the transformations defined earlier\n",
    "available_transformations = {\n",
    "    'rotate': random_rotation,\n",
    "    'noise': random_noise,\n",
    "    'horizontal_flip': horizontal_flip,\n",
    "    'verical_flip':verical_flip\n",
    "}\n",
    "\n",
    "folder_path = 'rice_leaf_diseases/augment/'\n",
    "\n",
    "num_files_desired = 20\n",
    "\n",
    "\n",
    "# find all files paths from the folder\n",
    "images = [os.path.join(folder_path, f) for f in os.listdir(folder_path) if os.path.isfile(os.path.join(folder_path, f))]\n",
    "\n",
    "num_generated_files = 0\n",
    "while num_generated_files < num_files_desired:\n",
    "    # random image from the folder\n",
    "    image_path = random.choice(images)\n",
    "    # reading image as an two dimensional array of pixels\n",
    "    image_to_transform = sk.io.imread(image_path)\n",
    "    # random number of transformation to apply\n",
    "    num_transformations_to_apply = random.randint(1, len(available_transformations))\n",
    "\n",
    "    num_transformations = 0\n",
    "    transformed_image = None\n",
    "    while num_transformations <= num_transformations_to_apply:\n",
    "        # random transformation to apply for a single image\n",
    "        key = random.choice(list(available_transformations))\n",
    "        transformed_image = available_transformations[key](image_to_transform)\n",
    "        num_transformations += 1\n",
    "\n",
    "    new_file_path = '%s/augmented_image_%s%s.jpg' % (folder_path, num_generated_files,key)\n",
    "\n",
    "    # writing image to the disk\n",
    "    io.imsave(new_file_path, transformed_image)\n",
    "    num_generated_files += 1\n",
    "print(\"Augmentation successful\")"
   ]
  },
  {
   "cell_type": "code",
   "execution_count": 36,
   "metadata": {},
   "outputs": [
    {
     "name": "stdout",
     "output_type": "stream",
     "text": [
      "['Bacterial_leaf_blight', 'Brown_spot', 'Healthy_leaf', 'Leaf_smut']\n",
      "Renaming Successful\n"
     ]
    }
   ],
   "source": [
    "x=os.listdir(\"rice_leaf_diseases/\")\n",
    "#print(x)\n",
    "y=[i.replace(\" \",\"_\") for i in x]\n",
    "print(y)\n",
    "for count1, filename1 in enumerate(x):\n",
    "    #print(filename)\n",
    "    for count2,filename2 in enumerate(os.listdir(\"rice_leaf_diseases/\"+filename1)):\n",
    "        dst =y[count1] + \"_\"+str(count2+1) + \".jpg\"\n",
    "        src =\"rice_leaf_diseases/\"+filename1+\"/\"+filename2\n",
    "        dst =\"rice_leaf_diseases/\"+filename1+\"/\"+dst\n",
    "          \n",
    "        # rename() function will\n",
    "        # rename all the files\n",
    "        os.rename(src, dst)\n",
    "print(\"Renaming Successful\")      \n",
    "    #x=x+filename\n",
    "#print(x)"
   ]
  },
  {
   "cell_type": "code",
   "execution_count": null,
   "metadata": {},
   "outputs": [],
   "source": []
  }
 ],
 "metadata": {
  "kernelspec": {
   "display_name": "Python 3",
   "language": "python",
   "name": "python3"
  },
  "language_info": {
   "codemirror_mode": {
    "name": "ipython",
    "version": 3
   },
   "file_extension": ".py",
   "mimetype": "text/x-python",
   "name": "python",
   "nbconvert_exporter": "python",
   "pygments_lexer": "ipython3",
   "version": "3.7.0"
  }
 },
 "nbformat": 4,
 "nbformat_minor": 2
}
